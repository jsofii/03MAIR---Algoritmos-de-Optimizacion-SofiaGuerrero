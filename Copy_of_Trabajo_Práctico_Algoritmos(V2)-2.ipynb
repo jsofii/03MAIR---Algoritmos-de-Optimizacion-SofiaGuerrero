{
 "nbformat": 4,
 "nbformat_minor": 0,
 "metadata": {
  "colab": {
   "provenance": [],
   "toc_visible": true
  },
  "kernelspec": {
   "name": "python3",
   "language": "python",
   "display_name": "Python 3 (ipykernel)"
  }
 },
 "cells": [
  {
   "cell_type": "markdown",
   "metadata": {
    "id": "hVbXYX-RfPWh"
   },
   "source": [
    "# Algoritmos de optimización - Trabajo Práctico<br>\n",
    "Nombre y Apellidos: Jenny Sofía Guerrero Burbbano  <br>\n",
    "Url: https://github.com/.../03MAIR---Algoritmos-de-Optimizacion---/tree/master/TrabajoPractico<br>\n",
    "Google Colab: https://colab.research.google.com/drive/xxxxxxxxxxxxxxxx <br>\n",
    "Problema:\n",
    " Configuración de Tribunales\n",
    "\n",
    "Descripción del problema:\n",
    "\n",
    "Se precisa configurar tribunales de evaluación para un grupo de 15 alumnos que desean presentar\n",
    "su Trabajo Fin de Máster (TFM). fi Cada tribunal está compuesto por tres profesores, cada uno\n",
    "desempeñando uno de los siguientes roles: Presidente, Secretario o Vocal. fi Los profesores han\n",
    "indicado su disponibilidad horaria para participar en los tribunales de 15h a 21h durante la semana\n",
    "del 15 al 19 de abril: Número de profesores : 10 Número de tribunales : 15 Disponibilidad/Roles :\n",
    "https://bit.ly/41QWk8o - 1 indica que profesor tiene disponibilidad - 0 en caso contrario\n",
    "#Modelo - ¿Como represento el espacio de soluciones?\n",
    "El espacio de soluciones está compuesto por\n",
    "todas las combinaciones posibles de tribunales teniendo en cuenta las restricciones. Cada solución\n",
    "puede ser una lista de tribunales, donde cada tribunal es una tupla de tres profesores (Presidente,\n",
    "Secretario, Vocal). - ¿Cual es la función objetivo? La función objetivo podría ser minimizar la varianza en la cantidad de tribunales a los que cada profesor es asignado. Buscamos una distribución\n",
    "equitativa de la carga de trabajo entre todos los profesores. También podríamos tener una función\n",
    "objetivo secundaria, como maximizar la diversidad en la composición de los tribunales, asegurándonos de que los profesores trabajen con diferentes colegas. - ¿Como implemento las restricciones?\n",
    "Las restricciones se pueden implementar de la siguiente manera:\n",
    "Restricción de disponibilidad: Cada profesor tiene ciertas horas en las que está disponible. Esta restricción se implementa asegurándose de que los profesores solo sean asignados a tribunales durante\n",
    "su horario disponible. Restricción de unicidad: Un profesor no puede estar en dos tribunales al\n",
    "mismo tiempo. Esto se implementa mediante la verificación de que cada profesor solo sea asignado\n",
    "a un tribunal por franja horaria. Restricción de roles: Cada tribunal debe tener un Presidente, un\n",
    "Secretario y un Vocal, y ningún profesor puede desempeñar más de un rol a la vez.\n",
    "\n",
    "\n",
    "\n",
    "\n",
    "\n",
    "\n",
    "                                        "
   ]
  },
  {
   "cell_type": "markdown",
   "source": [
    "#Modelo\n",
    "- ¿Como represento el espacio de soluciones?\n",
    "- ¿Cual es la función objetivo?\n",
    "- ¿Como implemento las restricciones?"
   ],
   "metadata": {
    "id": "Sbo9IqQtpaHZ"
   }
  },
  {
   "cell_type": "markdown",
   "source": [],
   "metadata": {
    "id": "67p_vszBposu"
   }
  },
  {
   "cell_type": "code",
   "metadata": {
    "id": "AiskKkzZfy4e",
    "ExecuteTime": {
     "end_time": "2024-03-22T17:55:12.677992Z",
     "start_time": "2024-03-22T17:55:12.660177Z"
    }
   },
   "source": [
    "import pandas as pd\n",
    "import matplotlib as mtlp\n",
    "\n",
    "# Function to read the CSV file containing professor roles and convert to a usable structure\n",
    "def read_professor_roles(csv_file_path):\n",
    "    df_roles = pd.read_csv(csv_file_path)\n",
    "    # Convert the roles to a dictionary with professors as keys and their roles as values\n",
    "    professor_roles = {row['Profesor']: row['ROL'].split(',') for _, row in df_roles.iterrows()}\n",
    "    return professor_roles\n",
    "\n",
    "# Corrected function to read the professor availability\n",
    "def read_professor_availability_corrected(csv_file_path):\n",
    "    df_availability = pd.read_csv(csv_file_path)\n",
    "    # Set the 'Profesor' column as the index of the dataframe\n",
    "    df_availability.set_index('Profesor', inplace=True)\n",
    "    return df_availability\n",
    "\n",
    "# Function to create a single tribunal given the availability and roles\n",
    "def create_single_tribunal(professor_roles, professor_availability):\n",
    "    # For each time slot, check if there are enough professors available to form a tribunal\n",
    "    for column in professor_availability.columns:\n",
    "        available_professors = professor_availability.index[professor_availability[column] == 1].tolist()\n",
    "        # We need to find three professors with different roles who are available at the same time\n",
    "        for president in available_professors:\n",
    "            if 'P' in professor_roles[president]:\n",
    "                for secretary in available_professors:\n",
    "                    if secretary != president and 'S' in professor_roles[secretary]:\n",
    "                        for vocal in available_professors:\n",
    "                            if vocal != president and vocal != secretary and 'V' in professor_roles[vocal]:\n",
    "                                # Mark the professors as unavailable for this time slot\n",
    "                                professor_availability.at[president, column] = 0\n",
    "                                professor_availability.at[secretary, column] = 0\n",
    "                                professor_availability.at[vocal, column] = 0\n",
    "                                # Return the tribunal with the assigned roles and time slot\n",
    "                                return {'Fecha': column.split('/')[0], 'Hora': column.split('/')[1],\n",
    "                                        'Presidente': president, 'Secretario': secretary, 'Vocal': vocal}\n",
    "    # If we cannot form a tribunal, return None\n",
    "    return None\n",
    "\n",
    "# Read the professor roles and availabilities from the CSV files\n",
    "professor_roles = read_professor_roles('profesores_roles.csv')\n",
    "professor_availability = read_professor_availability_corrected('tribunales_horario_completo.csv')\n",
    "\n",
    "# Create the list of tribunals\n",
    "tribunal_list = []\n",
    "for _ in range(15):  # We want to create 15 tribunals\n",
    "    tribunal = create_single_tribunal(professor_roles, professor_availability)\n",
    "    if tribunal is not None:\n",
    "        tribunal_list.append(tribunal)\n",
    "\n",
    "# Convert the tribunal list to a DataFrame\n",
    "tribunals_df = pd.DataFrame(tribunal_list)\n",
    "print(tribunals_df)\n",
    "\n",
    "# Save the DataFrame to a CSV file\n",
    "tribunals_csv_path = 'tribunals_final.csv'\n",
    "tribunals_df.to_csv(tribunals_csv_path, index_label='Tribunal')\n",
    "\n",
    "\n"
   ],
   "execution_count": 7,
   "outputs": [
    {
     "name": "stdout",
     "output_type": "stream",
     "text": [
      "   Fecha Hora Presidente Secretario Vocal\n",
      "0     15   15        QYV        HLC   MSB\n",
      "1     15   15        PMQ        EBB   IOE\n",
      "2     15   16        RRD        QYV   MSB\n",
      "3     15   16        PMQ        QWF   EBB\n",
      "4     15   17        RRD        QYV   LHL\n",
      "5     15   17        PMQ        HLC   QWF\n",
      "6     15   18        RRD        QYV   LHL\n",
      "7     15   18        MSB        PMQ   QWF\n",
      "8     15   18        IOE        EBB   IOA\n",
      "9     15   19        PMQ        HLC   QWF\n",
      "10    15   20        RRD        HLC   LHL\n",
      "11    15   20        MSB        QWF   IOE\n",
      "12    15   21        RRD        MSB   LHL\n",
      "13    16   15        RRD        HLC   LHL\n",
      "14    16   15        MSB        PMQ   QWF\n"
     ]
    }
   ]
  },
  {
   "cell_type": "markdown",
   "source": [
    "#Análisis\n",
    "- ¿Que complejidad tiene el problema?. Orden de complejidad y Contabilizar el espacio de soluciones"
   ],
   "metadata": {
    "id": "HZz52wOppp-U"
   }
  },
  {
   "cell_type": "markdown",
   "source": [
    "Complejidad Computacional:\n",
    "\n",
    "La complejidad computacional de este problema puede ser analizada en términos de la cantidad de profesores (P), la cantidad de franjas horarias disponibles (H) y el número de roles a asignar (R). En este caso, R es constante ya que siempre hay tres roles (Presidente, Secretario, Vocal).\n",
    "\n",
    "El algoritmo que hemos implementado revisa cada franja horaria para cada profesor y verifica las combinaciones posibles de roles. La parte más intensiva del algoritmo es la generación de combinaciones de profesores para formar tribunales.\n",
    "\n",
    "Para cada franja horaria, generamos todas las combinaciones posibles de 3 profesores de un conjunto de P profesores. El número de tales combinaciones es dado por la fórmula de combinación C(P, 3), que es igual a P! / (3!(P-3)!), donde \"!\" denota factorial.\n",
    "\n",
    "\n",
    "Espacio de Soluciones:\n",
    "\n",
    "El espacio de soluciones está compuesto por todas las combinaciones válidas de tribunales que se pueden formar teniendo en cuenta las restricciones de disponibilidad y roles. Si consideramos que hay P profesores y cada profesor puede ocupar uno de los 3 roles, el espacio de soluciones sin restricciones sería P^3 para cada tribunal, ya que cada uno de los 3 roles puede ser ocupado por cualquiera de los P profesores."
   ],
   "metadata": {
    "id": "LlZWSyWu2ATF"
   }
  },
  {
   "cell_type": "markdown",
   "source": [
    "#Diseño\n",
    "- ¿Que técnica utilizo? ¿Por qué?"
   ],
   "metadata": {
    "id": "ixEJUwH_pv7M"
   }
  },
  {
   "cell_type": "markdown",
   "source": [],
   "metadata": {
    "id": "qlkestoE19R4"
   }
  },
  {
   "cell_type": "markdown",
   "source": [
    "La programación de restricciones utiliza técnicas de backtracking y poda para descartar rápidamente grandes porciones del espacio de búsqueda que no pueden conducir a una solución válida, mejorando la eficiencia del proceso de búsqueda.\n"
   ],
   "metadata": {
    "id": "fmzIct1w2cSf"
   }
  }
 ]
}
